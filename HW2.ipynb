{
 "cells": [
  {
   "cell_type": "markdown",
   "metadata": {},
   "source": [
    "**Задание 1**. Даны 2 строки: *long_phrase* и *short_phrase*. \n",
    "Напишите код, который проверяет действительно ли длинная фраза *long_phrase* длиннее короткой *short_phrase*. И выводит *True* или *False* в зависимости от результата сравнения."
   ]
  },
  {
   "cell_type": "code",
   "execution_count": null,
   "metadata": {},
   "outputs": [],
   "source": [
    "long_phrase = 'Насколько проще было бы писать программы, если бы не заказчики'\n",
    "short_phrase = '640Кб должно хватить для любых задач. Билл Гейтс (по легенде)'"
   ]
  },
  {
   "cell_type": "code",
   "execution_count": 4,
   "metadata": {},
   "outputs": [
    {
     "data": {
      "text/plain": [
       "False"
      ]
     },
     "execution_count": 4,
     "metadata": {},
     "output_type": "execute_result"
    }
   ],
   "source": [
    "len ('long_phrase') > len ('short_phrase')"
   ]
  },
  {
   "cell_type": "markdown",
   "metadata": {},
   "source": [
    "**Задание 2**. Дано значение объема файла в байтах (*в мегабайте 2^20 байт*). Напишите перевод этого значения в мегабайты в формате: \"*Объем файла равен 213.68Mb*\"."
   ]
  },
  {
   "cell_type": "code",
   "execution_count": 26,
   "metadata": {},
   "outputs": [
    {
     "name": "stdout",
     "output_type": "stream",
     "text": [
      "Объем файла равен 213.68 Mb\n"
     ]
    }
   ],
   "source": [
    "a = 213.68\n",
    "b = 2**20*a\n",
    "print('Объем файла равен',a,'Mb')\n",
    "# Не очень понял, что нужно сделать вообще...\n"
   ]
  },
  {
   "cell_type": "markdown",
   "metadata": {},
   "source": [
    "**Задание 3**. Разработать приложение для определения знака зодиака по дате рождения. Пример:\n",
    "\n",
    "Введите месяц: март\n",
    "\n",
    "Введите число: 6\n",
    "\n",
    "Вывод:\n",
    "Рыбы"
   ]
  },
  {
   "cell_type": "code",
   "execution_count": 34,
   "metadata": {},
   "outputs": [
    {
     "name": "stdout",
     "output_type": "stream",
     "text": [
      "Введите номер месяца вашего рождения8\n",
      "Введите число вашего рождения18\n",
      "Лев\n"
     ]
    }
   ],
   "source": [
    "month_input=int(input('Введите номер месяца вашего рождения'))\n",
    "date_input=int(input('Введите число вашего рождения'))\n",
    "0<date_input<31\n",
    "0<month_input<12\n",
    "if (month_input==1 and date_input<=19) or (month_input==12 and date_input>=22):\n",
    "    print('Козерог')\n",
    "elif (month_input==2 and date_input<=18) or (month_input==1 and date_input>=20):\n",
    "    print('Водолей')\n",
    "elif (month_input==3 and date_input<=20) or (month_input==2 and date_input>=19):\n",
    "    print('Рыбы')\n",
    "elif (month_input==4 and date_input<=20) or (month_input==3 and date_input>=21):\n",
    "    print('Овен')\n",
    "elif (month_input==5 and date_input<=20) or (month_input==4 and date_input>=21):\n",
    "    print('Телец')\n",
    "elif (month_input==6 and date_input<=20) or (month_input==5 and date_input>=21):\n",
    "    print('Близнецы')\n",
    "elif (month_input==7 and date_input<=20) or (month_input==6 and date_input>=21):\n",
    "    print('Рак')\n",
    "elif (month_input==8 and date_input<=20) or (month_input==7 and date_input>=21):\n",
    "    print('Лев')\n",
    "elif (month_input==9 and date_input<=20) or (month_input==8 and date_input>=21):\n",
    "    print('Дева')\n",
    "elif (month_input==10 and date_input<=20) or (month_input==9 and date_input>=21):\n",
    "    print('Весы')\n",
    "elif (month_input==11 and date_input<=20) or (month_input==10 and date_input>=21):\n",
    "    print('Скорпион')\n",
    "elif (month_input==12 and date_input<=20) or (month_input==11 and date_input>=21):\n",
    "    print('Стрелец')\n",
    "else:\n",
    "    print ('Неправильно введены данные')"
   ]
  },
  {
   "cell_type": "markdown",
   "metadata": {},
   "source": [
    "**Задание 4**. Нужно разработать приложение для финансового планирования.\n",
    "Приложение учитывает сколько уходит на ипотеку, \"на жизнь\" и сколько нужно отложить на пенсию.\n",
    "Пользователь вводит:\n",
    "- заработанную плату в месяц.\n",
    "- сколько процентов от ЗП уходит на ипотеку.\n",
    "- сколько процентов от ЗП уходит \"на жизнь\".\n",
    "- сколько раз приходит премия в год.\n",
    "\n",
    "Остальная часть заработанной платы откладывается на пенсию.\n",
    "\n",
    "Также пользователю приходит премия в размере зарплаты, от которой половина уходит на отпуск, а вторая половина откладывается.\n",
    "\n",
    "Программа должна учитывать сколько премий было в год.\n",
    "\n",
    "Нужно вывести сколько денег тратит пользователь на ипотеку и сколько он накопит за год.\n",
    "\n",
    "Пример:\n",
    "\n",
    "Введите заработанную плату в месяц: 100000\n",
    "\n",
    "Введите сколько процентов уходит на ипотеку: 30\n",
    "\n",
    "Введите сколько процентов уходит на жизнь: 50\n",
    "\n",
    "Введите количество премий за год: 2\n",
    "\n",
    "Вывод:\n",
    "На ипотеку было потрачено: 360000 рублей\n",
    "Было накоплено: 340000 рублей"
   ]
  },
  {
   "cell_type": "code",
   "execution_count": null,
   "metadata": {},
   "outputs": [],
   "source": [
    "input_salary=int(input('заработная плата в месяц: '))\n",
    "input_mortgage=int(input('сколько процентов от ЗП уходит на ипотеку: '))\n",
    "input_life=int(input('сколько процентов от ЗП уходит \"на жизнь\": '))\n",
    "input_bonus=int(input('сколько раз приходит премия в год: '))\n",
    "mortgage=input_salary*input_mortgage/100*12\n",
    "life=input_salary*input_life/100*12\n",
    "pension=(input_salary*12-life-mortgage)+input_bonus*input_salary/0.5\n",
    "print('На ипотеку было потрачено',mortgage,'рублей')\n",
    "print('На жизнь было потрачено',life,'рублей')\n",
    "print('Накоплено на пенсию',pension,'рублей')\n"
   ]
  },
  {
   "cell_type": "code",
   "execution_count": null,
   "metadata": {},
   "outputs": [],
   "source": []
  }
 ],
 "metadata": {
  "kernelspec": {
   "display_name": "Python 3",
   "language": "python",
   "name": "python3"
  },
  "language_info": {
   "codemirror_mode": {
    "name": "ipython",
    "version": 3
   },
   "file_extension": ".py",
   "mimetype": "text/x-python",
   "name": "python",
   "nbconvert_exporter": "python",
   "pygments_lexer": "ipython3",
   "version": "3.7.6"
  }
 },
 "nbformat": 4,
 "nbformat_minor": 2
}
